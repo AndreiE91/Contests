{
 "cells": [
  {
   "cell_type": "code",
   "execution_count": 1,
   "metadata": {},
   "outputs": [],
   "source": [
    "def read_input_file(file_path):\n",
    "    with open(file_path, 'r') as file:\n",
    "        lines = file.readlines()\n",
    "\n",
    "    n = int(lines[0])\n",
    "    grids = []\n",
    "    directions = []\n",
    "\n",
    "    line_index = 1\n",
    "    for _ in range(n):\n",
    "        width, height = map(int, lines[line_index].split())\n",
    "        line_index += 1\n",
    "\n",
    "        grid = []\n",
    "        for _ in range(height):\n",
    "            grid.append(list(lines[line_index].strip()))\n",
    "            line_index += 1\n",
    "\n",
    "        grids.append(grid)\n",
    "        directions.append(lines[line_index].strip())\n",
    "        line_index += 1\n",
    "\n",
    "    return n, grids, directions\n",
    "\n",
    "n, grids, directions = read_input_file('level3_example.in')"
   ]
  },
  {
   "cell_type": "code",
   "execution_count": 2,
   "metadata": {},
   "outputs": [],
   "source": [
    "import numpy as np\n",
    "# convert grids which is a list of lists of lists of characters into a list of matrices\n",
    "grids = [np.array(grid) for grid in grids]"
   ]
  },
  {
   "cell_type": "code",
   "execution_count": 3,
   "metadata": {},
   "outputs": [
    {
     "data": {
      "text/plain": [
       "['SSDWDSDWWDSS', 'DSSAWDDSDWWDSS', 'SSDWWDSSDWWDSS', 'ASSDWDSDWWDSS']"
      ]
     },
     "execution_count": 3,
     "metadata": {},
     "output_type": "execute_result"
    }
   ],
   "source": [
    "directions"
   ]
  },
  {
   "cell_type": "code",
   "execution_count": 4,
   "metadata": {},
   "outputs": [
    {
     "name": "stdout",
     "output_type": "stream",
     "text": [
      "[['.' '.' 'X' '.' '.']\n",
      " ['.' '.' '.' '.' '.']\n",
      " ['.' '.' '.' '.' '.']]\n",
      "[['.' '.' 'X' '.' '.']\n",
      " ['.' '.' '.' '.' '.']\n",
      " ['.' '.' '.' '.' '.']]\n",
      "[['.' '.' 'X' '.' '.']\n",
      " ['.' '.' '.' '.' '.']\n",
      " ['.' '.' '.' '.' '.']]\n",
      "[['.' '.' 'X' '.' '.']\n",
      " ['.' '.' '.' '.' '.']\n",
      " ['.' '.' '.' '.' '.']]\n"
     ]
    }
   ],
   "source": [
    "for grid in grids:\n",
    "    print(grid)"
   ]
  },
  {
   "cell_type": "code",
   "execution_count": 5,
   "metadata": {},
   "outputs": [],
   "source": [
    "def build_path(grid, direction):\n",
    "    path = []\n",
    "    x, y = 0, 0\n",
    "    for way in direction:\n",
    "        if way == 'W':\n",
    "            path.append((x, y))\n",
    "            y += 1\n",
    "        elif way == 'A':\n",
    "            path.append((x, y))\n",
    "            x -= 1\n",
    "        elif way == 'D':\n",
    "            path.append((x, y))\n",
    "            x += 1\n",
    "        elif way == 'S':\n",
    "            path.append((x, y))\n",
    "            y -= 1\n",
    "            \n",
    "    return path\n",
    "    "
   ]
  },
  {
   "cell_type": "code",
   "execution_count": 6,
   "metadata": {},
   "outputs": [
    {
     "name": "stdout",
     "output_type": "stream",
     "text": [
      "[(0, 0), (0, -1), (0, -2), (1, -2), (1, -1), (2, -1), (2, -2), (3, -2), (3, -1), (3, 0), (4, 0), (4, -1)]\n",
      "[(0, 0), (1, 0), (1, -1), (1, -2), (0, -2), (0, -1), (1, -1), (2, -1), (2, -2), (3, -2), (3, -1), (3, 0), (4, 0), (4, -1)]\n",
      "[(0, 0), (0, -1), (0, -2), (1, -2), (1, -1), (1, 0), (2, 0), (2, -1), (2, -2), (3, -2), (3, -1), (3, 0), (4, 0), (4, -1)]\n",
      "[(0, 0), (-1, 0), (-1, -1), (-1, -2), (0, -2), (0, -1), (1, -1), (1, -2), (2, -2), (2, -1), (2, 0), (3, 0), (3, -1)]\n"
     ]
    }
   ],
   "source": [
    "paths = [build_path(grid, direction) for grid, direction in zip(grids, directions)]\n",
    "for i in range(n):\n",
    "    print(paths[i])"
   ]
  },
  {
   "cell_type": "code",
   "execution_count": 7,
   "metadata": {},
   "outputs": [],
   "source": [
    "def is_self_crossing(path):\n",
    "    return len(path) != len(set(path))"
   ]
  },
  {
   "cell_type": "code",
   "execution_count": 8,
   "metadata": {},
   "outputs": [
    {
     "name": "stdout",
     "output_type": "stream",
     "text": [
      "False\n",
      "True\n",
      "False\n",
      "False\n"
     ]
    }
   ],
   "source": [
    "for path in paths:\n",
    "    print(is_self_crossing(path))"
   ]
  },
  {
   "cell_type": "code",
   "execution_count": 9,
   "metadata": {},
   "outputs": [],
   "source": [
    "from cmath import inf\n",
    "\n",
    "\n",
    "def calculate_bounding_box(path):\n",
    "    min_x, max_x, min_y, max_y = path[0][0], path[0][0], path[0][1], path[0][1]\n",
    "    for position in path:\n",
    "        x, y = position\n",
    "        min_x = min(min_x, x)\n",
    "        max_x = max(max_x, x)\n",
    "        min_y = min(min_y, y)\n",
    "        max_y = max(max_y, y)\n",
    "        \n",
    "    xdiffmax = abs(max_x - min_x)\n",
    "    ydiffmax = abs(max_y - min_y)\n",
    "\n",
    "    return xdiffmax + 1, ydiffmax + 1"
   ]
  },
  {
   "cell_type": "code",
   "execution_count": 10,
   "metadata": {},
   "outputs": [
    {
     "name": "stdout",
     "output_type": "stream",
     "text": [
      "(5, 3)\n",
      "(5, 3)\n",
      "(5, 3)\n",
      "(5, 3)\n"
     ]
    }
   ],
   "source": [
    "for path in paths:\n",
    "    print(calculate_bounding_box(path))"
   ]
  },
  {
   "cell_type": "code",
   "execution_count": 11,
   "metadata": {},
   "outputs": [],
   "source": [
    "def count_unique_positions_in_path(path):\n",
    "    return len(set(path))"
   ]
  },
  {
   "cell_type": "code",
   "execution_count": 12,
   "metadata": {},
   "outputs": [
    {
     "name": "stdout",
     "output_type": "stream",
     "text": [
      "12\n",
      "13\n",
      "14\n",
      "13\n"
     ]
    }
   ],
   "source": [
    "for path in paths:\n",
    "    print(count_unique_positions_in_path(path))"
   ]
  },
  {
   "cell_type": "code",
   "execution_count": 13,
   "metadata": {},
   "outputs": [],
   "source": [
    "def count_number_of_x_in_grid(grid, x):\n",
    "    return np.sum(grid == x)"
   ]
  },
  {
   "cell_type": "code",
   "execution_count": 14,
   "metadata": {},
   "outputs": [
    {
     "name": "stdout",
     "output_type": "stream",
     "text": [
      "1\n",
      "1\n",
      "1\n",
      "1\n"
     ]
    }
   ],
   "source": [
    "for grid in grids:\n",
    "    print(count_number_of_x_in_grid(grid, 'X'))"
   ]
  },
  {
   "cell_type": "code",
   "execution_count": 15,
   "metadata": {},
   "outputs": [],
   "source": [
    "def covers_each_square_in_bounding_box(path, grid):\n",
    "    width, height = calculate_bounding_box(path)\n",
    "    return count_unique_positions_in_path(path) + count_number_of_x_in_grid(grid, 'X') == width * height"
   ]
  },
  {
   "cell_type": "code",
   "execution_count": 16,
   "metadata": {},
   "outputs": [
    {
     "name": "stdout",
     "output_type": "stream",
     "text": [
      "False\n",
      "False\n",
      "True\n",
      "False\n"
     ]
    }
   ],
   "source": [
    "for path in paths:\n",
    "    print(covers_each_square_in_bounding_box(path, grid))"
   ]
  },
  {
   "cell_type": "code",
   "execution_count": 17,
   "metadata": {},
   "outputs": [],
   "source": [
    "def extract_x_pos(grid):\n",
    "    return np.where(grid == 'X')"
   ]
  },
  {
   "cell_type": "code",
   "execution_count": 18,
   "metadata": {},
   "outputs": [
    {
     "name": "stdout",
     "output_type": "stream",
     "text": [
      "(array([0], dtype=int64), array([2], dtype=int64))\n",
      "(array([0], dtype=int64), array([2], dtype=int64))\n",
      "(array([0], dtype=int64), array([2], dtype=int64))\n",
      "(array([0], dtype=int64), array([2], dtype=int64))\n"
     ]
    }
   ],
   "source": [
    "for grid in grids:\n",
    "    print(extract_x_pos(grid))"
   ]
  },
  {
   "cell_type": "code",
   "execution_count": null,
   "metadata": {},
   "outputs": [],
   "source": []
  },
  {
   "cell_type": "code",
   "execution_count": 19,
   "metadata": {},
   "outputs": [
    {
     "name": "stdout",
     "output_type": "stream",
     "text": [
      "INVALID\n",
      "INVALID\n",
      "VALID\n",
      "INVALID\n"
     ]
    }
   ],
   "source": [
    "for i in range(n):\n",
    "    if is_self_crossing(paths[i]):\n",
    "        print(\"INVALID\")\n",
    "        continue\n",
    "    if not covers_each_square_in_bounding_box(paths[i], grids[i]):\n",
    "        print(\"INVALID\")\n",
    "        continue\n",
    "    #x_pos = extract_x_pos(grids[i])\n",
    "    print(\"VALID\")"
   ]
  },
  {
   "cell_type": "code",
   "execution_count": null,
   "metadata": {},
   "outputs": [],
   "source": []
  }
 ],
 "metadata": {
  "kernelspec": {
   "display_name": "base",
   "language": "python",
   "name": "python3"
  },
  "language_info": {
   "codemirror_mode": {
    "name": "ipython",
    "version": 3
   },
   "file_extension": ".py",
   "mimetype": "text/x-python",
   "name": "python",
   "nbconvert_exporter": "python",
   "pygments_lexer": "ipython3",
   "version": "3.11.7"
  }
 },
 "nbformat": 4,
 "nbformat_minor": 2
}
