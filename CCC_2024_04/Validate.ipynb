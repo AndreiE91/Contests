{
 "cells": [
  {
   "cell_type": "code",
   "execution_count": 3,
   "metadata": {},
   "outputs": [],
   "source": [
    "def read_input_file(file_path):\n",
    "    with open(file_path, 'r') as file:\n",
    "        lines = file.readlines()\n",
    "\n",
    "    n = int(lines[0])\n",
    "    grids = []\n",
    "    directions = []\n",
    "\n",
    "    line_index = 1\n",
    "    for _ in range(n):\n",
    "        width, height = map(int, lines[line_index].split())\n",
    "        line_index += 1\n",
    "\n",
    "        grid = []\n",
    "        for _ in range(height):\n",
    "            grid.append(list(lines[line_index].strip()))\n",
    "            line_index += 1\n",
    "\n",
    "        grids.append(grid)\n",
    "        directions.append(lines[line_index].strip())\n",
    "        line_index += 1\n",
    "\n",
    "    return n, grids, directions\n",
    "\n",
    "n, grids, directions = read_input_file('level3_example.in')"
   ]
  },
  {
   "cell_type": "code",
   "execution_count": null,
   "metadata": {},
   "outputs": [],
   "source": []
  }
 ],
 "metadata": {
  "kernelspec": {
   "display_name": "base",
   "language": "python",
   "name": "python3"
  },
  "language_info": {
   "codemirror_mode": {
    "name": "ipython",
    "version": 3
   },
   "file_extension": ".py",
   "mimetype": "text/x-python",
   "name": "python",
   "nbconvert_exporter": "python",
   "pygments_lexer": "ipython3",
   "version": "3.11.7"
  }
 },
 "nbformat": 4,
 "nbformat_minor": 2
}
